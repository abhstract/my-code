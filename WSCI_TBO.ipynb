{
  "nbformat": 4,
  "nbformat_minor": 0,
  "metadata": {
    "kernelspec": {
      "display_name": "Python 3",
      "language": "python",
      "name": "python3"
    },
    "language_info": {
      "codemirror_mode": {
        "name": "ipython",
        "version": 3
      },
      "file_extension": ".py",
      "mimetype": "text/x-python",
      "name": "python",
      "nbconvert_exporter": "python",
      "pygments_lexer": "ipython3",
      "version": "3.6.4"
    },
    "colab": {
      "name": "WSCI - TBO.ipynb",
      "provenance": [],
      "include_colab_link": true
    }
  },
  "cells": [
    {
      "cell_type": "markdown",
      "metadata": {
        "id": "view-in-github",
        "colab_type": "text"
      },
      "source": [
        "<a href=\"https://colab.research.google.com/github/abhstract/my-code/blob/master/WSCI_TBO.ipynb\" target=\"_parent\"><img src=\"https://colab.research.google.com/assets/colab-badge.svg\" alt=\"Open In Colab\"/></a>"
      ]
    },
    {
      "cell_type": "code",
      "metadata": {
        "id": "n0m-LX9kYdFc"
      },
      "source": [
        "import numpy as np\n",
        "import random  \n",
        "import matplotlib.pyplot as plt \n",
        "import math\n",
        "from sklearn.linear_model import LinearRegression\n",
        "import statistics"
      ],
      "execution_count": 29,
      "outputs": []
    },
    {
      "cell_type": "code",
      "metadata": {
        "id": "ETm70no0YdFh"
      },
      "source": [
        "data = [] \n",
        "temp = []\n",
        "gamma = 2.2\n",
        "beta = 1.5\n",
        "    \n",
        "n = 40\n",
        "for i in range(n):   \n",
        "    data.append(random.weibullvariate(gamma,beta))\n",
        "    temp.append(data[i])"
      ],
      "execution_count": 30,
      "outputs": []
    },
    {
      "cell_type": "code",
      "metadata": {
        "id": "b35W8I9NYdFi"
      },
      "source": [
        "MTBO = statistics.mean(data)\n",
        "STBO = math.sqrt(statistics.variance(data))\n",
        "data.sort()"
      ],
      "execution_count": 31,
      "outputs": []
    },
    {
      "cell_type": "code",
      "metadata": {
        "id": "oEPibz2VYdFj"
      },
      "source": [
        "ln_TBO = []\n",
        "ln_F = []\n",
        "for i in range(n):\n",
        "    ln_TBO.append(math.log(data[i]))\n",
        "    ln_F.append(math.log(math.log(1/(1-(i+0.5)/n))))"
      ],
      "execution_count": 32,
      "outputs": []
    },
    {
      "cell_type": "code",
      "metadata": {
        "colab": {
          "base_uri": "https://localhost:8080/"
        },
        "id": "YvblDdXlYdFj",
        "outputId": "423d267c-6d34-4382-d66d-14ed78c2eab3"
      },
      "source": [
        "X = np.array(ln_TBO)\n",
        "X = X.reshape(-1,1)\n",
        "y = np.array(ln_F)\n",
        "\n",
        "reg = LinearRegression().fit(X,y)\n",
        "reg.score(X,y)\n",
        "beta_est = reg.coef_[0]\n",
        "gamma_est = math.exp(-1*reg.intercept_/beta_est)\n",
        "print(beta_est)\n",
        "print(gamma_est)"
      ],
      "execution_count": 33,
      "outputs": [
        {
          "output_type": "stream",
          "text": [
            "1.5836979738385295\n",
            "1.9264402904979128\n"
          ],
          "name": "stdout"
        }
      ]
    },
    {
      "cell_type": "code",
      "metadata": {
        "colab": {
          "base_uri": "https://localhost:8080/"
        },
        "id": "Czf-rOH-YdFj",
        "outputId": "2878dbcd-f7e2-487c-fb1c-12434a6362a7"
      },
      "source": [
        "LCL = gamma_est*math.pow((math.log(1/0.975)),1/beta_est)\n",
        "UCL = gamma_est*math.pow((math.log(2/0.05)),1/beta_est)\n",
        "print(UCL)\n",
        "print(LCL)"
      ],
      "execution_count": 34,
      "outputs": [
        {
          "output_type": "stream",
          "text": [
            "4.392499535089642\n",
            "0.18907114851432733\n"
          ],
          "name": "stdout"
        }
      ]
    },
    {
      "cell_type": "code",
      "metadata": {
        "colab": {
          "base_uri": "https://localhost:8080/",
          "height": 265
        },
        "id": "LofA9sSzYdFk",
        "outputId": "a5795255-fe04-45d2-81ea-12afaa3f1780"
      },
      "source": [
        "j = [i+1 for i in range(n)]\n",
        "UC = [UCL for i in range(n)]\n",
        "LC = [LCL for i in range(n)]\n",
        "plt.legend(['Control Chart for random data obeying weibull distribution'])\n",
        "plt.plot(j,UC)\n",
        "plt.plot(j,temp,'-o')\n",
        "plt.grid()\n",
        "plt.plot(j,LC)\n",
        "plt.show()\n"
      ],
      "execution_count": 36,
      "outputs": [
        {
          "output_type": "display_data",
          "data": {
            "image/png": "[encoded data removed]",
            "text/plain": [
              "<Figure size 432x288 with 1 Axes>"
            ]
          },
          "metadata": {
            "tags": [],
            "needs_background": "light"
          }
        }
      ]
    },
    {
      "cell_type": "code",
      "metadata": {
        "id": "oGrUreEGYdFl"
      },
      "source": [
        "# Expectation of Loss Function\n",
        "LA = (1/(MTBO*MTBO))*(1 + 3*(STBO/MTBO)*(STBO/MTBO))"
      ],
      "execution_count": null,
      "outputs": []
    },
    {
      "cell_type": "code",
      "metadata": {
        "id": "cbEk0_TtYdFl"
      },
      "source": [
        "LAbm = 1 # Benchmarking Loss Function - Arbitrary Value\n",
        "WSCI = LA/LAbm\n",
        "print(\"WSCI for TBO: \",WSCI)"
      ],
      "execution_count": null,
      "outputs": []
    },
    {
      "cell_type": "code",
      "metadata": {
        "id": "dphEypGbYdFl"
      },
      "source": [
        ""
      ],
      "execution_count": null,
      "outputs": []
    }
  ]
}